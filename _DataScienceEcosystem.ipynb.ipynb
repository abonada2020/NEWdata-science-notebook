{
  "metadata": {
    "kernelspec": {
      "name": "python",
      "display_name": "Python (Pyodide)",
      "language": "python"
    },
    "language_info": {
      "codemirror_mode": {
        "name": "python",
        "version": 3
      },
      "file_extension": ".py",
      "mimetype": "text/x-python",
      "name": "python",
      "nbconvert_exporter": "python",
      "pygments_lexer": "ipython3",
      "version": "3.8"
    }
  },
  "nbformat_minor": 4,
  "nbformat": 4,
  "cells": [
    {
      "cell_type": "markdown",
      "source": "In this notebook, Data Science Tools and Ecosystem are summarized.",
      "metadata": {}
    },
    {
      "cell_type": "markdown",
      "source": " Data Science Languages  \n\nSome of the commonly used languages by Data Scientists include:  \n\n1. Python  \n2. R  \n3. SQL  \n4. Julia  \n",
      "metadata": {}
    },
    {
      "cell_type": "markdown",
      "source": " Data Science Libraries  \n\nSome of the commonly used libraries used by Data Scientists include:  \n\n1. NumPy - Provides support for large, multi-dimensional arrays and matrices, along with mathematical functions.  \n2. Pandas - Offers data structures and data analysis tools for manipulating structured data.  \n3. Scikit-Learn - A machine learning library for Python that provides simple and efficient tools for data mining and analysis.  \n4. TensorFlow - An open-source framework for deep learning and artificial intelligence applications.  \n5. Matplotlib - A plotting library for creating static, animated, and interactive visualizations in Python.  \n",
      "metadata": {}
    },
    {
      "cell_type": "markdown",
      "source": " Data Science Tools\n\n| Data Science Tools |\n|--------------------|\n| Jupyter Notebook  |\n| RStudio          |\n| Apache Zeppelin  |\n\n",
      "metadata": {}
    },
    {
      "cell_type": "markdown",
      "source": " Below are a few examples of evaluating arithmetic expressions in Python.  \n\n- `3 + 5` : Addition  \n- `10 - 4` : Subtraction  \n- `6 * 7` : Multiplication  \n- `20 / 5` : Division  \n- `2 ** 3` : Exponentiation (2 raised to the power of 3)  \n- `10 % 3` : Modulus (remainder of 10 divided by 3)  \n",
      "metadata": {}
    },
    {
      "cell_type": "code",
      "source": "#This is a simple arithmetic expression to multiply, then add integers\nresult = (3 * 4) + 5\nprint(result)  # Output: 17\n",
      "metadata": {
        "trusted": true
      },
      "outputs": [
        {
          "name": "stdout",
          "text": "17\n",
          "output_type": "stream"
        }
      ],
      "execution_count": 7
    },
    {
      "cell_type": "code",
      "source": "# This will convert 200 minutes to hours by dividing by 60\nminutes = 200\nhours = minutes / 60\nprint(hours)  # Output: 3.3333.",
      "metadata": {
        "trusted": true
      },
      "outputs": [
        {
          "name": "stdout",
          "text": "3.3333333333333335\n",
          "output_type": "stream"
        }
      ],
      "execution_count": 11
    },
    {
      "cell_type": "markdown",
      "source": "**Objectives:**\n\n- List popular languages for Data Science.  \n- Demonstrate how to evaluate arithmetic expressions in Python.  \n- Convert time units (minutes to hours).  \n- Understand basic arithmetic operations in Python.  \n- Identify common libraries and tools used in Data Science.  \n",
      "metadata": {}
    },
    {
      "cell_type": "markdown",
      "source": "## Author  \nAhmed Al-saman\n",
      "metadata": {}
    }
  ]
}